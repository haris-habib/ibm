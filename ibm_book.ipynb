{
 "cells": [
  {
   "cell_type": "markdown",
   "id": "9c26e0d0-cee4-4de3-a64a-39ea23492d08",
   "metadata": {},
   "source": [
    "<h1>title\n",
    "</h1>"
   ]
  },
  {
   "cell_type": "markdown",
   "id": "18747b99-6a9d-40e2-b4c6-8c59f069fc37",
   "metadata": {},
   "source": [
    "this is a notebook"
   ]
  },
  {
   "cell_type": "markdown",
   "id": "e98ad99f-24fb-4832-8322-ca285ebadf38",
   "metadata": {},
   "source": [
    "python , R "
   ]
  },
  {
   "cell_type": "markdown",
   "id": "5ff67f07-b582-4fca-988a-c6b6a5e61b47",
   "metadata": {},
   "source": [
    "scikit learn , tensorflow , so on"
   ]
  },
  {
   "cell_type": "markdown",
   "id": "ad9aae16-a581-4ee7-b856-778331d1e5f0",
   "metadata": {},
   "source": [
    "github , Rstudio , jupyter notebook"
   ]
  },
  {
   "cell_type": "markdown",
   "id": "21a1016c-acaf-4184-8baa-19fea7f55b33",
   "metadata": {},
   "source": [
    " 5+3 , 6*7"
   ]
  },
  {
   "cell_type": "code",
   "execution_count": 1,
   "id": "da41dcca-78c9-4a71-af67-0d4bc7a9f3fe",
   "metadata": {},
   "outputs": [
    {
     "data": {
      "text/plain": [
       "12"
      ]
     },
     "execution_count": 1,
     "metadata": {},
     "output_type": "execute_result"
    }
   ],
   "source": [
    "a , b = 5 , 7\n",
    "c = a+b\n",
    "c"
   ]
  },
  {
   "cell_type": "code",
   "execution_count": 2,
   "id": "4a8fbe8e-5404-4830-a8e2-b06b46c2735a",
   "metadata": {},
   "outputs": [
    {
     "data": {
      "text/plain": [
       "35"
      ]
     },
     "execution_count": 2,
     "metadata": {},
     "output_type": "execute_result"
    }
   ],
   "source": [
    "c = a*b\n",
    "c"
   ]
  },
  {
   "cell_type": "code",
   "execution_count": 4,
   "id": "062dee75-5b65-49f3-80b2-384d92052ed8",
   "metadata": {},
   "outputs": [
    {
     "name": "stdin",
     "output_type": "stream",
     "text": [
      "enter minutes 56\n"
     ]
    },
    {
     "data": {
      "text/plain": [
       "0.9333333333333333"
      ]
     },
     "execution_count": 4,
     "metadata": {},
     "output_type": "execute_result"
    }
   ],
   "source": [
    "min = input(\"enter minutes\")\n",
    "hours = int(min)/60\n",
    "hours"
   ]
  },
  {
   "cell_type": "markdown",
   "id": "4a467230-e20b-4b3d-a0df-0f54dc1abcc1",
   "metadata": {},
   "source": [
    "Exercise 2 - Create a markdown cell with the title of the notebook. (1 pt)\r\n",
    "\r\n",
    "Exercise 3 - Create a markdown cell for an introduction. (1 pt)\r\n",
    "\r\n",
    "Exercise 4 - Create a markdown cell to list data science languages. (3 pts)\r\n",
    "\r\n",
    "Exercise 5 - Create a markdown cell to list data science libraries. (3 pts)\r\n",
    "\r\n",
    "Exercise 6 - Create a markdown cell with a table of Data Science tools. (3 pts)\r\n",
    "\r\n",
    "Exercise 7 - Create a markdown cell introducing arithmetic expression examples. (1 pt)\r\n",
    "\r\n",
    "Exercise 8 - Create a code cell to multiply and add numbers. (2 pts)\r\n",
    "\r\n",
    "Exercise 9 - Create a code cell to convert minutes to hours. (2 pts)\r\n",
    "\r\n",
    "Exercise 10 -Insert a markdown cell to list Objectives. (3 pts)\r\n",
    "\r\n",
    "Exercise 11 - Create a markdown cell to indicate the Author’s name. (2 pts)\r\n",
    "\r\n",
    "Exercise 12 - Share your notebook through GitHub (3 pts)\r\n",
    "\r\n",
    "Exercise 13 - Take a screenshot of the first page of the notebook. (1 pt)"
   ]
  },
  {
   "cell_type": "markdown",
   "id": "95e3cd05-8a78-4eb8-ae50-949715294add",
   "metadata": {},
   "source": [
    "<h2>haris</h2>"
   ]
  },
  {
   "cell_type": "code",
   "execution_count": null,
   "id": "f0980270-6160-4cff-b943-2c743a00e779",
   "metadata": {},
   "outputs": [],
   "source": []
  }
 ],
 "metadata": {
  "kernelspec": {
   "display_name": "Python 3 (ipykernel)",
   "language": "python",
   "name": "python3"
  },
  "language_info": {
   "codemirror_mode": {
    "name": "ipython",
    "version": 3
   },
   "file_extension": ".py",
   "mimetype": "text/x-python",
   "name": "python",
   "nbconvert_exporter": "python",
   "pygments_lexer": "ipython3",
   "version": "3.12.2"
  }
 },
 "nbformat": 4,
 "nbformat_minor": 5
}
